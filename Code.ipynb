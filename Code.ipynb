{
 "cells": [
  {
   "cell_type": "code",
   "execution_count": 1,
   "metadata": {},
   "outputs": [],
   "source": [
    "import pandas as pd\n",
    "import matplotlib.pyplot as plt\n",
    "import numpy as np\n",
    "from scipy import stats\n",
    "from sklearn.linear_model import Ridge\n",
    "from sklearn.model_selection import train_test_split\n",
    "from sklearn.model_selection import GridSearchCV\n",
    "from sklearn.linear_model import Lasso\n",
    "from sklearn.metrics import mean_squared_error\n"
   ]
  },
  {
   "cell_type": "markdown",
   "metadata": {},
   "source": [
    "# Preparing Data"
   ]
  },
  {
   "cell_type": "code",
   "execution_count": 2,
   "metadata": {},
   "outputs": [],
   "source": [
    "wine = pd.read_csv('winemag-data-130k-v2.csv')\n"
   ]
  },
  {
   "cell_type": "code",
   "execution_count": 3,
   "metadata": {},
   "outputs": [
    {
     "name": "stdout",
     "output_type": "stream",
     "text": [
      "<class 'pandas.core.frame.DataFrame'>\n",
      "RangeIndex: 129971 entries, 0 to 129970\n",
      "Data columns (total 14 columns):\n",
      "Unnamed: 0               129971 non-null int64\n",
      "country                  129908 non-null object\n",
      "description              129971 non-null object\n",
      "designation              92506 non-null object\n",
      "points                   129971 non-null int64\n",
      "price                    120975 non-null float64\n",
      "province                 129908 non-null object\n",
      "region_1                 108724 non-null object\n",
      "region_2                 50511 non-null object\n",
      "taster_name              103727 non-null object\n",
      "taster_twitter_handle    98758 non-null object\n",
      "title                    129971 non-null object\n",
      "variety                  129970 non-null object\n",
      "winery                   129971 non-null object\n",
      "dtypes: float64(1), int64(2), object(11)\n",
      "memory usage: 13.9+ MB\n"
     ]
    }
   ],
   "source": [
    "#Checking for outliers\n",
    "\n",
    "wine.info()"
   ]
  },
  {
   "cell_type": "code",
   "execution_count": 4,
   "metadata": {},
   "outputs": [
    {
     "data": {
      "text/html": [
       "<div>\n",
       "<style scoped>\n",
       "    .dataframe tbody tr th:only-of-type {\n",
       "        vertical-align: middle;\n",
       "    }\n",
       "\n",
       "    .dataframe tbody tr th {\n",
       "        vertical-align: top;\n",
       "    }\n",
       "\n",
       "    .dataframe thead th {\n",
       "        text-align: right;\n",
       "    }\n",
       "</style>\n",
       "<table border=\"1\" class=\"dataframe\">\n",
       "  <thead>\n",
       "    <tr style=\"text-align: right;\">\n",
       "      <th></th>\n",
       "      <th>Unnamed: 0</th>\n",
       "      <th>points</th>\n",
       "      <th>price</th>\n",
       "    </tr>\n",
       "  </thead>\n",
       "  <tbody>\n",
       "    <tr>\n",
       "      <th>count</th>\n",
       "      <td>129971.000000</td>\n",
       "      <td>129971.000000</td>\n",
       "      <td>120975.000000</td>\n",
       "    </tr>\n",
       "    <tr>\n",
       "      <th>mean</th>\n",
       "      <td>64985.000000</td>\n",
       "      <td>88.447138</td>\n",
       "      <td>35.363389</td>\n",
       "    </tr>\n",
       "    <tr>\n",
       "      <th>std</th>\n",
       "      <td>37519.540256</td>\n",
       "      <td>3.039730</td>\n",
       "      <td>41.022218</td>\n",
       "    </tr>\n",
       "    <tr>\n",
       "      <th>min</th>\n",
       "      <td>0.000000</td>\n",
       "      <td>80.000000</td>\n",
       "      <td>4.000000</td>\n",
       "    </tr>\n",
       "    <tr>\n",
       "      <th>25%</th>\n",
       "      <td>32492.500000</td>\n",
       "      <td>86.000000</td>\n",
       "      <td>17.000000</td>\n",
       "    </tr>\n",
       "    <tr>\n",
       "      <th>50%</th>\n",
       "      <td>64985.000000</td>\n",
       "      <td>88.000000</td>\n",
       "      <td>25.000000</td>\n",
       "    </tr>\n",
       "    <tr>\n",
       "      <th>75%</th>\n",
       "      <td>97477.500000</td>\n",
       "      <td>91.000000</td>\n",
       "      <td>42.000000</td>\n",
       "    </tr>\n",
       "    <tr>\n",
       "      <th>max</th>\n",
       "      <td>129970.000000</td>\n",
       "      <td>100.000000</td>\n",
       "      <td>3300.000000</td>\n",
       "    </tr>\n",
       "  </tbody>\n",
       "</table>\n",
       "</div>"
      ],
      "text/plain": [
       "          Unnamed: 0         points          price\n",
       "count  129971.000000  129971.000000  120975.000000\n",
       "mean    64985.000000      88.447138      35.363389\n",
       "std     37519.540256       3.039730      41.022218\n",
       "min         0.000000      80.000000       4.000000\n",
       "25%     32492.500000      86.000000      17.000000\n",
       "50%     64985.000000      88.000000      25.000000\n",
       "75%     97477.500000      91.000000      42.000000\n",
       "max    129970.000000     100.000000    3300.000000"
      ]
     },
     "execution_count": 4,
     "metadata": {},
     "output_type": "execute_result"
    }
   ],
   "source": [
    "wine.describe()"
   ]
  },
  {
   "cell_type": "code",
   "execution_count": 5,
   "metadata": {},
   "outputs": [
    {
     "name": "stdout",
     "output_type": "stream",
     "text": [
      "53195     171.0\n",
      "26447     171.0\n",
      "36212     172.0\n",
      "82489     174.0\n",
      "10846     174.0\n",
      "          ...  \n",
      "129844      NaN\n",
      "129860      NaN\n",
      "129863      NaN\n",
      "129893      NaN\n",
      "129964      NaN\n",
      "Name: price, Length: 10000, dtype: float64\n"
     ]
    }
   ],
   "source": [
    "# price seems to have a high max therefore I will analyze further\n",
    "\n",
    "wine_price_sorted = wine['price'].sort_values()\n",
    "print(wine_price_sorted.tail(10000))"
   ]
  },
  {
   "cell_type": "code",
   "execution_count": 6,
   "metadata": {},
   "outputs": [
    {
     "data": {
      "image/png": "[encoded data removed]",
      "text/plain": [
       "<Figure size 432x288 with 1 Axes>"
      ]
     },
     "metadata": {
      "needs_background": "light"
     },
     "output_type": "display_data"
    }
   ],
   "source": [
    "wine.boxplot(column='price')\n",
    "plt.show()"
   ]
  },
  {
   "cell_type": "code",
   "execution_count": 7,
   "metadata": {},
   "outputs": [
    {
     "data": {
      "image/png": "[encoded data removed]",
      "text/plain": [
       "<Figure size 432x288 with 1 Axes>"
      ]
     },
     "metadata": {
      "needs_background": "light"
     },
     "output_type": "display_data"
    }
   ],
   "source": [
    "#Initial Removable of outliers \n",
    "\n",
    "wine.drop(wine[wine['price']>= 1000].index, inplace = True)\n",
    "\n",
    "wine.boxplot(column='price')\n",
    "plt.show()"
   ]
  },
  {
   "cell_type": "code",
   "execution_count": 8,
   "metadata": {},
   "outputs": [
    {
     "name": "stdout",
     "output_type": "stream",
     "text": [
      "<class 'pandas.core.frame.DataFrame'>\n",
      "Int64Index: 129955 entries, 0 to 129970\n",
      "Data columns (total 14 columns):\n",
      "Unnamed: 0               129955 non-null int64\n",
      "country                  129892 non-null object\n",
      "description              129955 non-null object\n",
      "designation              92503 non-null object\n",
      "points                   129955 non-null int64\n",
      "price                    120959 non-null float64\n",
      "province                 129892 non-null object\n",
      "region_1                 108710 non-null object\n",
      "region_2                 50510 non-null object\n",
      "taster_name              103711 non-null object\n",
      "taster_twitter_handle    98742 non-null object\n",
      "title                    129955 non-null object\n",
      "variety                  129954 non-null object\n",
      "winery                   129955 non-null object\n",
      "dtypes: float64(1), int64(2), object(11)\n",
      "memory usage: 14.9+ MB\n"
     ]
    }
   ],
   "source": [
    "wine.info()"
   ]
  },
  {
   "cell_type": "code",
   "execution_count": 9,
   "metadata": {},
   "outputs": [
    {
     "data": {
      "text/html": [
       "<div>\n",
       "<style scoped>\n",
       "    .dataframe tbody tr th:only-of-type {\n",
       "        vertical-align: middle;\n",
       "    }\n",
       "\n",
       "    .dataframe tbody tr th {\n",
       "        vertical-align: top;\n",
       "    }\n",
       "\n",
       "    .dataframe thead th {\n",
       "        text-align: right;\n",
       "    }\n",
       "</style>\n",
       "<table border=\"1\" class=\"dataframe\">\n",
       "  <thead>\n",
       "    <tr style=\"text-align: right;\">\n",
       "      <th></th>\n",
       "      <th>Unnamed: 0</th>\n",
       "      <th>points</th>\n",
       "      <th>price</th>\n",
       "    </tr>\n",
       "  </thead>\n",
       "  <tbody>\n",
       "    <tr>\n",
       "      <th>count</th>\n",
       "      <td>129955.000000</td>\n",
       "      <td>129955.000000</td>\n",
       "      <td>120959.000000</td>\n",
       "    </tr>\n",
       "    <tr>\n",
       "      <th>mean</th>\n",
       "      <td>64985.054319</td>\n",
       "      <td>88.446254</td>\n",
       "      <td>35.144537</td>\n",
       "    </tr>\n",
       "    <tr>\n",
       "      <th>std</th>\n",
       "      <td>37518.419959</td>\n",
       "      <td>3.038699</td>\n",
       "      <td>35.576669</td>\n",
       "    </tr>\n",
       "    <tr>\n",
       "      <th>min</th>\n",
       "      <td>0.000000</td>\n",
       "      <td>80.000000</td>\n",
       "      <td>4.000000</td>\n",
       "    </tr>\n",
       "    <tr>\n",
       "      <th>25%</th>\n",
       "      <td>32493.500000</td>\n",
       "      <td>86.000000</td>\n",
       "      <td>17.000000</td>\n",
       "    </tr>\n",
       "    <tr>\n",
       "      <th>50%</th>\n",
       "      <td>64983.000000</td>\n",
       "      <td>88.000000</td>\n",
       "      <td>25.000000</td>\n",
       "    </tr>\n",
       "    <tr>\n",
       "      <th>75%</th>\n",
       "      <td>97475.500000</td>\n",
       "      <td>91.000000</td>\n",
       "      <td>42.000000</td>\n",
       "    </tr>\n",
       "    <tr>\n",
       "      <th>max</th>\n",
       "      <td>129970.000000</td>\n",
       "      <td>100.000000</td>\n",
       "      <td>980.000000</td>\n",
       "    </tr>\n",
       "  </tbody>\n",
       "</table>\n",
       "</div>"
      ],
      "text/plain": [
       "          Unnamed: 0         points          price\n",
       "count  129955.000000  129955.000000  120959.000000\n",
       "mean    64985.054319      88.446254      35.144537\n",
       "std     37518.419959       3.038699      35.576669\n",
       "min         0.000000      80.000000       4.000000\n",
       "25%     32493.500000      86.000000      17.000000\n",
       "50%     64983.000000      88.000000      25.000000\n",
       "75%     97475.500000      91.000000      42.000000\n",
       "max    129970.000000     100.000000     980.000000"
      ]
     },
     "execution_count": 9,
     "metadata": {},
     "output_type": "execute_result"
    }
   ],
   "source": [
    "wine.describe()"
   ]
  },
  {
   "cell_type": "code",
   "execution_count": 10,
   "metadata": {},
   "outputs": [],
   "source": [
    "#Removing observations with missing price values\n",
    "\n",
    "wine.dropna(subset=['price'], inplace=True) \n"
   ]
  },
  {
   "cell_type": "code",
   "execution_count": 11,
   "metadata": {},
   "outputs": [
    {
     "name": "stdout",
     "output_type": "stream",
     "text": [
      "<class 'pandas.core.frame.DataFrame'>\n",
      "Int64Index: 120959 entries, 1 to 129970\n",
      "Data columns (total 14 columns):\n",
      "Unnamed: 0               120959 non-null int64\n",
      "country                  120900 non-null object\n",
      "description              120959 non-null object\n",
      "designation              86193 non-null object\n",
      "points                   120959 non-null int64\n",
      "price                    120959 non-null float64\n",
      "province                 120900 non-null object\n",
      "region_1                 101386 non-null object\n",
      "region_2                 50291 non-null object\n",
      "taster_name              96463 non-null object\n",
      "taster_twitter_handle    91543 non-null object\n",
      "title                    120959 non-null object\n",
      "variety                  120958 non-null object\n",
      "winery                   120959 non-null object\n",
      "dtypes: float64(1), int64(2), object(11)\n",
      "memory usage: 13.8+ MB\n"
     ]
    }
   ],
   "source": [
    "wine.info()"
   ]
  },
  {
   "cell_type": "code",
   "execution_count": 12,
   "metadata": {},
   "outputs": [
    {
     "name": "stdout",
     "output_type": "stream",
     "text": [
      "(120959, 14)\n"
     ]
    }
   ],
   "source": [
    "#further removing outliers\n",
    "\n",
    "z = np.abs(stats.zscore(wine['price']))\n",
    "\n",
    "wine2 = wine[(z < 3)]\n",
    "\n",
    "print(wine.shape)"
   ]
  },
  {
   "cell_type": "code",
   "execution_count": 13,
   "metadata": {},
   "outputs": [
    {
     "name": "stdout",
     "output_type": "stream",
     "text": [
      "(119390, 14)\n"
     ]
    }
   ],
   "source": [
    "print(wine2.shape)"
   ]
  },
  {
   "cell_type": "code",
   "execution_count": 14,
   "metadata": {},
   "outputs": [
    {
     "data": {
      "image/png": "[encoded data removed]",
      "text/plain": [
       "<Figure size 432x288 with 1 Axes>"
      ]
     },
     "metadata": {
      "needs_background": "light"
     },
     "output_type": "display_data"
    }
   ],
   "source": [
    "wine2.boxplot(column='price')\n",
    "plt.show()"
   ]
  },
  {
   "cell_type": "code",
   "execution_count": 15,
   "metadata": {},
   "outputs": [],
   "source": [
    "# exporting dataframe to new csv\n",
    "\n",
    "wine2.to_csv(r'wine_clean.csv')\n"
   ]
  },
  {
   "cell_type": "markdown",
   "metadata": {},
   "source": [
    "# Model Creation"
   ]
  },
  {
   "cell_type": "markdown",
   "metadata": {},
   "source": [
    "## Test 1"
   ]
  },
  {
   "cell_type": "code",
   "execution_count": 16,
   "metadata": {},
   "outputs": [
    {
     "name": "stdout",
     "output_type": "stream",
     "text": [
      "{'alpha': 1}\n"
     ]
    }
   ],
   "source": [
    "# creating  arrays of X and y\n",
    "\n",
    "arry= wine2['points'].values\n",
    "arrx= wine2['price'].values\n",
    "\n",
    "# reshaping the arrays\n",
    "\n",
    "y= arry.reshape(-1,1)\n",
    "X= arrx.reshape(-1,1)\n",
    "\n",
    "# splitting data\n",
    "X_train, X_test, y_train, y_test = train_test_split(X, y, test_size = .3, random_state=42)\n",
    "\n",
    "\n",
    "# cross validating alpha of Ridge\n",
    "c_space = [1, 0.1,0.01,0.001, 0.0001]\n",
    "param_grid = {'alpha': c_space}\n",
    "\n",
    "ridge_reg = Ridge()\n",
    "\n",
    "ridge_reg_cv= GridSearchCV(ridge_reg, param_grid, cv=5 )\n",
    "\n",
    "ridge_reg_cv.fit(X_train, y_train)\n",
    "\n",
    "print(ridge_reg_cv.best_params_)"
   ]
  },
  {
   "cell_type": "code",
   "execution_count": 17,
   "metadata": {},
   "outputs": [
    {
     "name": "stdout",
     "output_type": "stream",
     "text": [
      "0.3035281643920328\n"
     ]
    }
   ],
   "source": [
    "ridge_reg.fit(X_train,y_train)\n",
    "ridge_reg.predict(X_test)\n",
    "\n",
    "print(ridge_reg.score(X_test, y_test))"
   ]
  },
  {
   "cell_type": "markdown",
   "metadata": {},
   "source": [
    "## Test 2"
   ]
  },
  {
   "cell_type": "code",
   "execution_count": 18,
   "metadata": {},
   "outputs": [
    {
     "name": "stdout",
     "output_type": "stream",
     "text": [
      "0.3652558324895225\n"
     ]
    }
   ],
   "source": [
    "y1 = np.log(y)\n",
    "X1 = np.log(X)\n",
    "\n",
    "X1_train, X1_test, y1_train, y1_test = train_test_split(X1, y1, test_size = .2, random_state=42)\n",
    "\n",
    "ridge_regX1 = Ridge()\n",
    "\n",
    "ridge_regX1.fit(X1_train,y1_train)\n",
    "ridge_regX1.predict(X1_test)\n",
    "\n",
    "print(ridge_regX1.score(X1_test, y1_test))"
   ]
  },
  {
   "cell_type": "markdown",
   "metadata": {},
   "source": [
    "## Test 3"
   ]
  },
  {
   "cell_type": "code",
   "execution_count": 21,
   "metadata": {},
   "outputs": [
    {
     "name": "stdout",
     "output_type": "stream",
     "text": [
      "0.3932299686010854\n"
     ]
    }
   ],
   "source": [
    "wine_country = wine2[['country', 'points', 'price']]\n",
    "winex2 = pd.get_dummies(wine_country, drop_first=True)\n",
    "\n",
    "\n",
    "y2 = winex2['points'].values\n",
    "X2 = winex2.drop('points', axis=1).values\n",
    "\n",
    "\n",
    "y2_log = np.log(y2)\n",
    "X2_log = X2\n",
    "X2_log[:,0] = np.log(X2_log[:,0])\n",
    "\n",
    "\n",
    "X2_log_train, X2_log_test, y2_log_train, y2_log_test = train_test_split(X2_log, y2_log, test_size = .2, random_state=42)\n",
    "\n",
    "ridge_regX2_log = Ridge()\n",
    "\n",
    "ridge_regX2_log.fit(X2_log_train,y2_log_train)\n",
    "ridge_regX2_log.predict(X2_log_test)\n",
    "\n",
    "print(ridge_regX2_log.score(X2_log_test, y2_log_test))"
   ]
  },
  {
   "cell_type": "markdown",
   "metadata": {},
   "source": [
    "## Test 4"
   ]
  },
  {
   "cell_type": "code",
   "execution_count": 22,
   "metadata": {},
   "outputs": [
    {
     "name": "stdout",
     "output_type": "stream",
     "text": [
      "0.4150292591376723\n"
     ]
    }
   ],
   "source": [
    "wine_province = wine2[['province', 'points', 'price']]\n",
    "winex3 = pd.get_dummies(wine_province, drop_first=True)\n",
    "\n",
    "\n",
    "y3 = winex3['points'].values\n",
    "X3 = winex3.drop('points', axis=1).values\n",
    "\n",
    "y3_log = np.log(y3)\n",
    "X3_log = X3\n",
    "X3_log[:,0] = np.log(X3_log[:,0])\n",
    "\n",
    "\n",
    "X3_log_train, X3_log_test, y3_log_train, y3_log_test = train_test_split(X3_log, y3_log, test_size = .2, random_state=42)\n",
    "\n",
    "ridge_regX3_log = Ridge()\n",
    "\n",
    "ridge_regX3_log.fit(X3_log_train,y3_log_train)\n",
    "ridge_regX3_log.predict(X3_log_test)\n",
    "\n",
    "print(ridge_regX3_log.score(X3_log_test, y3_log_test))"
   ]
  },
  {
   "cell_type": "markdown",
   "metadata": {},
   "source": [
    "## Test 5"
   ]
  },
  {
   "cell_type": "code",
   "execution_count": 23,
   "metadata": {},
   "outputs": [
    {
     "name": "stdout",
     "output_type": "stream",
     "text": [
      "0.42842139529082546\n"
     ]
    }
   ],
   "source": [
    "wine_winery = wine2[['province', 'points', 'price', 'variety']]\n",
    "winex4 = pd.get_dummies(wine_winery, drop_first=True)\n",
    "\n",
    "y4 = winex4['points'].values\n",
    "X4 = winex4.drop('points', axis=1).values\n",
    "\n",
    "y4_log = np.log(y4)\n",
    "X4_log = X4\n",
    "X4_log[:,0] = np.log(X4_log[:,0])\n",
    "\n",
    "X4_train, X4_test, y4_train, y4_test = train_test_split(X4_log, y4_log, test_size = .2, random_state=42)\n",
    "\n",
    "\n",
    "ridge_X4 = Ridge()\n",
    "\n",
    "ridge_X4.fit(X4_train,y4_train)\n",
    "ridge_X4.predict(X4_test)\n",
    "\n",
    "print(ridge_X4.score(X4_test, y4_test))"
   ]
  },
  {
   "cell_type": "code",
   "execution_count": 24,
   "metadata": {},
   "outputs": [
    {
     "name": "stdout",
     "output_type": "stream",
     "text": [
      "0.43061457596370467\n"
     ]
    }
   ],
   "source": [
    "X4_train, X4_test, y4_train, y4_test = train_test_split(X4, y4, test_size = .2, random_state=42)\n",
    "\n",
    "\n",
    "ridge_X4 = Ridge()\n",
    "\n",
    "ridge_X4.fit(X4_train,y4_train)\n",
    "ridge_X4.predict(X4_test)\n",
    "\n",
    "print(ridge_X4.score(X4_test, y4_test))"
   ]
  },
  {
   "cell_type": "markdown",
   "metadata": {},
   "source": [
    "## Test 6"
   ]
  },
  {
   "cell_type": "code",
   "execution_count": 25,
   "metadata": {},
   "outputs": [
    {
     "name": "stdout",
     "output_type": "stream",
     "text": [
      "{'alpha': 0.0001}\n"
     ]
    }
   ],
   "source": [
    "#gridsearch CV for lasso\n",
    "\n",
    "lasso_reg_cv= GridSearchCV(Lasso(), param_grid, cv=5)\n",
    "\n",
    "lasso_reg_cv.fit(X4_train, y4_train)\n",
    "\n",
    "print(lasso_reg_cv.best_params_)"
   ]
  },
  {
   "cell_type": "code",
   "execution_count": 26,
   "metadata": {},
   "outputs": [
    {
     "name": "stdout",
     "output_type": "stream",
     "text": [
      "0.4307207070951358\n"
     ]
    }
   ],
   "source": [
    "lasso = Lasso(alpha = 0.00001, normalize=True )\n",
    "\n",
    "lasso.fit(X4_train,y4_train)\n",
    "lasso.predict(X4_test)\n",
    "\n",
    "print(lasso.score(X4_test, y4_test))\n"
   ]
  },
  {
   "cell_type": "markdown",
   "metadata": {},
   "source": [
    "## Root Mean Square Error"
   ]
  },
  {
   "cell_type": "code",
   "execution_count": 27,
   "metadata": {},
   "outputs": [
    {
     "name": "stdout",
     "output_type": "stream",
     "text": [
      "2.2655811740661287\n"
     ]
    }
   ],
   "source": [
    "rmse = np.sqrt(mean_squared_error(y4_test, ridge_X4.predict(X4_test)))\n",
    "print(rmse)"
   ]
  },
  {
   "cell_type": "code",
   "execution_count": 28,
   "metadata": {},
   "outputs": [
    {
     "name": "stdout",
     "output_type": "stream",
     "text": [
      "2.2653700166594657\n"
     ]
    }
   ],
   "source": [
    "rmse2 = np.sqrt(mean_squared_error(y4_test, lasso.predict(X4_test)))\n",
    "print(rmse2)"
   ]
  },
  {
   "cell_type": "markdown",
   "metadata": {},
   "source": [
    "## Coefficient Ranking"
   ]
  },
  {
   "cell_type": "code",
   "execution_count": 30,
   "metadata": {},
   "outputs": [
    {
     "data": {
      "text/html": [
       "<div>\n",
       "<style scoped>\n",
       "    .dataframe tbody tr th:only-of-type {\n",
       "        vertical-align: middle;\n",
       "    }\n",
       "\n",
       "    .dataframe tbody tr th {\n",
       "        vertical-align: top;\n",
       "    }\n",
       "\n",
       "    .dataframe thead th {\n",
       "        text-align: right;\n",
       "    }\n",
       "</style>\n",
       "<table border=\"1\" class=\"dataframe\">\n",
       "  <thead>\n",
       "    <tr style=\"text-align: right;\">\n",
       "      <th></th>\n",
       "      <th>Feature</th>\n",
       "      <th>Coefficient</th>\n",
       "    </tr>\n",
       "  </thead>\n",
       "  <tbody>\n",
       "    <tr>\n",
       "      <th>674</th>\n",
       "      <td>variety_Kotsifali</td>\n",
       "      <td>5.184774</td>\n",
       "    </tr>\n",
       "    <tr>\n",
       "      <th>1018</th>\n",
       "      <td>variety_Tinta del Pais</td>\n",
       "      <td>4.466581</td>\n",
       "    </tr>\n",
       "    <tr>\n",
       "      <th>623</th>\n",
       "      <td>variety_Gelber Traminer</td>\n",
       "      <td>3.971855</td>\n",
       "    </tr>\n",
       "    <tr>\n",
       "      <th>960</th>\n",
       "      <td>variety_Sirica</td>\n",
       "      <td>3.969078</td>\n",
       "    </tr>\n",
       "    <tr>\n",
       "      <th>515</th>\n",
       "      <td>variety_Caprettone</td>\n",
       "      <td>3.764025</td>\n",
       "    </tr>\n",
       "    <tr>\n",
       "      <th>911</th>\n",
       "      <td>variety_Roviello</td>\n",
       "      <td>3.597594</td>\n",
       "    </tr>\n",
       "    <tr>\n",
       "      <th>302</th>\n",
       "      <td>province_Retsina</td>\n",
       "      <td>3.505590</td>\n",
       "    </tr>\n",
       "    <tr>\n",
       "      <th>908</th>\n",
       "      <td>variety_Roussanne-Grenache Blanc</td>\n",
       "      <td>3.410892</td>\n",
       "    </tr>\n",
       "    <tr>\n",
       "      <th>472</th>\n",
       "      <td>variety_Blauburgunder</td>\n",
       "      <td>3.344239</td>\n",
       "    </tr>\n",
       "    <tr>\n",
       "      <th>926</th>\n",
       "      <td>variety_Sauvignon Blanc-Assyrtiko</td>\n",
       "      <td>3.259542</td>\n",
       "    </tr>\n",
       "    <tr>\n",
       "      <th>746</th>\n",
       "      <td>variety_Merlot-Grenache</td>\n",
       "      <td>3.112294</td>\n",
       "    </tr>\n",
       "    <tr>\n",
       "      <th>221</th>\n",
       "      <td>province_Mittelrhein</td>\n",
       "      <td>3.071648</td>\n",
       "    </tr>\n",
       "    <tr>\n",
       "      <th>0</th>\n",
       "      <td>price</td>\n",
       "      <td>3.008151</td>\n",
       "    </tr>\n",
       "    <tr>\n",
       "      <th>136</th>\n",
       "      <td>province_Gladstone</td>\n",
       "      <td>2.962034</td>\n",
       "    </tr>\n",
       "    <tr>\n",
       "      <th>486</th>\n",
       "      <td>variety_Bual</td>\n",
       "      <td>2.897986</td>\n",
       "    </tr>\n",
       "    <tr>\n",
       "      <th>242</th>\n",
       "      <td>province_Nashik</td>\n",
       "      <td>2.869002</td>\n",
       "    </tr>\n",
       "    <tr>\n",
       "      <th>1010</th>\n",
       "      <td>variety_Tinta Cao</td>\n",
       "      <td>2.858318</td>\n",
       "    </tr>\n",
       "    <tr>\n",
       "      <th>347</th>\n",
       "      <td>province_Südburgenland</td>\n",
       "      <td>2.798201</td>\n",
       "    </tr>\n",
       "    <tr>\n",
       "      <th>879</th>\n",
       "      <td>variety_Prunelard</td>\n",
       "      <td>2.606796</td>\n",
       "    </tr>\n",
       "    <tr>\n",
       "      <th>99</th>\n",
       "      <td>province_Danube River Plains</td>\n",
       "      <td>2.456288</td>\n",
       "    </tr>\n",
       "  </tbody>\n",
       "</table>\n",
       "</div>"
      ],
      "text/plain": [
       "                                Feature  Coefficient\n",
       "674                   variety_Kotsifali     5.184774\n",
       "1018             variety_Tinta del Pais     4.466581\n",
       "623             variety_Gelber Traminer     3.971855\n",
       "960                      variety_Sirica     3.969078\n",
       "515                  variety_Caprettone     3.764025\n",
       "911                    variety_Roviello     3.597594\n",
       "302                    province_Retsina     3.505590\n",
       "908    variety_Roussanne-Grenache Blanc     3.410892\n",
       "472               variety_Blauburgunder     3.344239\n",
       "926   variety_Sauvignon Blanc-Assyrtiko     3.259542\n",
       "746             variety_Merlot-Grenache     3.112294\n",
       "221                province_Mittelrhein     3.071648\n",
       "0                                 price     3.008151\n",
       "136                  province_Gladstone     2.962034\n",
       "486                        variety_Bual     2.897986\n",
       "242                     province_Nashik     2.869002\n",
       "1010                  variety_Tinta Cao     2.858318\n",
       "347              province_Südburgenland     2.798201\n",
       "879                   variety_Prunelard     2.606796\n",
       "99         province_Danube River Plains     2.456288"
      ]
     },
     "execution_count": 30,
     "metadata": {},
     "output_type": "execute_result"
    }
   ],
   "source": [
    "coefficients = pd.concat([pd.DataFrame(winex4.columns[1:]),pd.DataFrame(np.transpose(lasso.coef_))], axis = 1)\n",
    "\n",
    "coefficients.columns = ['Feature', 'Coefficient']\n",
    "\n",
    "coefficients.sort_values(by=['Coefficient'], ascending= False).head(20)"
   ]
  }
 ],
 "metadata": {
  "kernelspec": {
   "display_name": "Python 3",
   "language": "python",
   "name": "python3"
  },
  "language_info": {
   "codemirror_mode": {
    "name": "ipython",
    "version": 3
   },
   "file_extension": ".py",
   "mimetype": "text/x-python",
   "name": "python",
   "nbconvert_exporter": "python",
   "pygments_lexer": "ipython3",
   "version": "3.7.4"
  }
 },
 "nbformat": 4,
 "nbformat_minor": 4
}
